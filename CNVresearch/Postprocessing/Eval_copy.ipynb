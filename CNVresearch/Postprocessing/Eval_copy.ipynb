version https://git-lfs.github.com/spec/v1
oid sha256:bae84b303cb3c14c38c02d77dd675d11b56f8f7d8c7eb2df9d8b711e38c1b8b3
size 18726335
