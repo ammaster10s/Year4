{
 "cells": [
  {
   "cell_type": "code",
   "execution_count": 13,
   "id": "2517be49",
   "metadata": {},
   "outputs": [
    {
     "name": "stdout",
     "output_type": "stream",
     "text": [
      "Images in JSON: 1191\n",
      "Images with ≥1 valid segmentation: 848\n",
      "Copied: 848\n",
      "Missing: 0\n"
     ]
    }
   ],
   "source": [
    "import json\n",
    "from pathlib import Path\n",
    "import shutil\n",
    "\n",
    "import json, shutil\n",
    "from pathlib import Path\n",
    "\n",
    "def has_seg(a):\n",
    "    s = a.get(\"segmentation\")\n",
    "    if isinstance(s, list):   # polygons\n",
    "        return len(s) > 0\n",
    "    if isinstance(s, dict):   # RLE\n",
    "        return bool(s.get(\"counts\")) and bool(s.get(\"size\"))\n",
    "    return False\n",
    "\n",
    "def copy_images_with_seg(\n",
    "    annotation_json: str,\n",
    "    source_dir: str,\n",
    "    dest_dir: str,\n",
    "    exts=(\".jpg\", \".jpeg\", \".png\", \".tif\", \".tiff\")\n",
    "):\n",
    "    ann = json.loads(Path(annotation_json).read_text(encoding=\"utf-8\"))\n",
    "    imgs = ann.get(\"images\", [])\n",
    "    anns = ann.get(\"annotations\", [])\n",
    "\n",
    "    # ids of images that have at least one valid segmentation\n",
    "    ids_with_seg = {a[\"image_id\"] for a in anns if \"image_id\" in a and has_seg(a)}\n",
    "\n",
    "    # map image id -> file_name (basename)\n",
    "    id2name = {img[\"id\"]: Path(str(img[\"file_name\"]).strip()).name for img in imgs if \"id\" in img and \"file_name\" in img}\n",
    "\n",
    "    # target basenames, lowercased\n",
    "    targets = {id2name[i].lower() for i in ids_with_seg if i in id2name}\n",
    "\n",
    "    src_root = Path(source_dir)\n",
    "    dst_root = Path(dest_dir)\n",
    "    dst_root.mkdir(parents=True, exist_ok=True)\n",
    "\n",
    "    # index all source images by basename (case-insensitive)\n",
    "    index = {}\n",
    "    for p in src_root.rglob(\"*\"):\n",
    "        if p.is_file() and p.suffix.lower() in exts:\n",
    "            index[p.name.lower()] = p\n",
    "\n",
    "    copied, missing = 0, []\n",
    "    for name in sorted(targets):\n",
    "        src = index.get(name)\n",
    "        if src:\n",
    "            shutil.copy2(src, dst_root / src.name)\n",
    "            copied += 1\n",
    "        else:\n",
    "            missing.append(name)\n",
    "\n",
    "    print(f\"Images in JSON: {len(imgs)}\")\n",
    "    print(f\"Images with ≥1 valid segmentation: {len(ids_with_seg)}\")\n",
    "    print(f\"Copied: {copied}\")\n",
    "    print(f\"Missing: {len(missing)}\")\n",
    "    if missing:\n",
    "        print(\"Missing examples (first 20):\")\n",
    "        for m in missing[:20]:\n",
    "            print(\"  -\", m)\n",
    "\n",
    "copy_images_with_seg(\n",
    "    # annotation_json=\"./Data/1200CNV.json\",\n",
    "    # annotation_json=\"./Data/CNV_521+Outlier (1).json\", \n",
    "    # annotation_json=\"./Data/550Noel.json\",\n",
    "    annotation_json =\"./Data/instances_Train.json\",\n",
    "    source_dir='/Users/ammaster10/Downloads/Test/oct2017/OCT2017 /train/CNV',\n",
    "    dest_dir=\"./1200\"\n",
    ")"
   ]
  },
  {
   "cell_type": "code",
   "execution_count": 14,
   "id": "c788e847",
   "metadata": {},
   "outputs": [
    {
     "name": "stdout",
     "output_type": "stream",
     "text": [
      "Found 1700 files in ./1200\n"
     ]
    }
   ],
   "source": [
    "def count_files_in_folder(folder_path, exts=None):\n",
    "    \"\"\"\n",
    "    Count the number of files in a folder, optionally filtering by extension.\n",
    "    \n",
    "    Args:\n",
    "        folder_path (str): Path to the folder\n",
    "        exts (tuple, optional): File extensions to include. If None, count all files.\n",
    "        \n",
    "    Returns:\n",
    "        int: Number of files in the folder\n",
    "    \"\"\"\n",
    "    path = Path(folder_path)\n",
    "    if not path.exists():\n",
    "        print(f\"Folder {folder_path} does not exist\")\n",
    "        return 0\n",
    "    \n",
    "    if exts:\n",
    "        # Count only files with specified extensions\n",
    "        count = sum(1 for f in path.glob(\"*\") if f.is_file() and f.suffix.lower() in exts)\n",
    "    else:\n",
    "        # Count all files\n",
    "        count = sum(1 for f in path.glob(\"*\") if f.is_file())\n",
    "    \n",
    "    print(f\"Found {count} files in {folder_path}\")\n",
    "    return count\n",
    "\n",
    "# Example usage\n",
    "# file_count = count_files_in_folder(\"/Users/ammaster10/Desktop/OCT2017/train/CNV\", exts=(\".jpg\", \".jpeg\", \".png\", \".tif\", \".tiff\"))\n",
    "# file_count = count_files_in_folder('/Users/ammaster10/Downloads/Test/oct2017/OCT2017 /train/CNV', exts=(\".jpg\", \".jpeg\", \".png\", \".tif\", \".tiff\"))\n",
    "file_count = count_files_in_folder('./1200', exts=(\".jpg\", \".jpeg\", \".png\", \".tif\", \".tiff\"))"
   ]
  },
  {
   "cell_type": "code",
   "execution_count": 2,
   "id": "2ab04e4c",
   "metadata": {},
   "outputs": [
    {
     "name": "stdout",
     "output_type": "stream",
     "text": [
      "Images: 1191\n",
      "Annotations: 819\n",
      "Unique image_ids (any): 819\n",
      "Unique image_ids (with seg): 819\n"
     ]
    }
   ],
   "source": [
    "import json\n",
    "from pathlib import Path\n",
    "\n",
    "ann = json.loads(Path(\"./Data/instances_Train.json\").read_text(encoding=\"utf-8\"))\n",
    "\n",
    "imgs = ann.get(\"images\", [])\n",
    "anns = ann.get(\"annotations\", [])\n",
    "\n",
    "def has_seg(a):\n",
    "    s = a.get(\"segmentation\")\n",
    "    if isinstance(s, list):   # polygons\n",
    "        return len(s) > 0\n",
    "    if isinstance(s, dict):   # RLE\n",
    "        return bool(s.get(\"counts\")) and bool(s.get(\"size\"))\n",
    "    return False\n",
    "\n",
    "img_count            = len(imgs)\n",
    "ann_count            = len(anns)\n",
    "uniq_imgids_any      = len({a[\"image_id\"] for a in anns if \"image_id\" in a})\n",
    "uniq_imgids_with_seg = len({a[\"image_id\"] for a in anns if \"image_id\" in a and has_seg(a)})\n",
    "\n",
    "print(\"Images:\", img_count)\n",
    "print(\"Annotations:\", ann_count)\n",
    "print(\"Unique image_ids (any):\", uniq_imgids_any)\n",
    "print(\"Unique image_ids (with seg):\", uniq_imgids_with_seg)"
   ]
  }
 ],
 "metadata": {
  "kernelspec": {
   "display_name": "Python 3",
   "language": "python",
   "name": "python3"
  },
  "language_info": {
   "codemirror_mode": {
    "name": "ipython",
    "version": 3
   },
   "file_extension": ".py",
   "mimetype": "text/x-python",
   "name": "python",
   "nbconvert_exporter": "python",
   "pygments_lexer": "ipython3",
   "version": "3.11.10"
  }
 },
 "nbformat": 4,
 "nbformat_minor": 5
}
