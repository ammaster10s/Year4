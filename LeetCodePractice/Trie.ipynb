{
 "cells": [
  {
   "cell_type": "code",
   "execution_count": 6,
   "id": "8b4b2a81",
   "metadata": {},
   "outputs": [
    {
     "name": "stdout",
     "output_type": "stream",
     "text": [
      "[['d'], ['d', 'a']]\n"
     ]
    }
   ],
   "source": [
    "# 1948. Delete Duplicate Folders in System https://leetcode.com/problems/delete-duplicate-folders-in-system/description/?envType=daily-question&envId=2025-06-26\n",
    "import collections\n",
    "class Solution(object):\n",
    "    def deleteDuplicateFolder(self, paths):\n",
    "        trie = {}\n",
    "        for path in paths:\n",
    "            node = trie\n",
    "            for folder in path:\n",
    "                node = node.setdefault(folder, {})\n",
    "\n",
    "        signature_map = collections.defaultdict(list)\n",
    "        \n",
    "        def get_signature(node):\n",
    "            \n",
    "            sub_signatures = []\n",
    "            for name, child_node in sorted(node.items()):\n",
    "                sub_signatures.append(name + \"(\" + get_signature(child_node) + \")\")\n",
    "            \n",
    "            signature = \"\".join(sub_signatures)\n",
    "            \n",
    "            if signature:\n",
    "                signature_map[signature].append(node)           \n",
    "            return signature\n",
    "\n",
    "        get_signature(trie)  \n",
    "        for nodes in signature_map.values():\n",
    "            if len(nodes) > 1:\n",
    "                for node in nodes:\n",
    "                    \n",
    "                    node['DELETE'] =    True       \n",
    "        result = []\n",
    "\n",
    "        def collect_paths(node, current_path):\n",
    "            if node.get('DELETE'):\n",
    "                return\n",
    "            \n",
    "            \n",
    "            if current_path:\n",
    "                result.append(current_path)\n",
    "\n",
    "           \n",
    "            for name, child_node in sorted(node.items()):\n",
    "                \n",
    "                if name != 'DELETE':\n",
    "                    collect_paths(child_node, current_path + [name])\n",
    "        \n",
    "        collect_paths(trie, [])\n",
    "        return result\n",
    "\n",
    "            \n",
    "Test = Solution()\n",
    "print(Test.deleteDuplicateFolder([[\"a\"],[\"c\"],[\"d\"],[\"a\",\"b\"],[\"c\",\"b\"],[\"d\",\"a\"]]))\n"
   ]
  }
 ],
 "metadata": {
  "kernelspec": {
   "display_name": "Python 3",
   "language": "python",
   "name": "python3"
  },
  "language_info": {
   "codemirror_mode": {
    "name": "ipython",
    "version": 3
   },
   "file_extension": ".py",
   "mimetype": "text/x-python",
   "name": "python",
   "nbconvert_exporter": "python",
   "pygments_lexer": "ipython3",
   "version": "3.11.10"
  }
 },
 "nbformat": 4,
 "nbformat_minor": 5
}
