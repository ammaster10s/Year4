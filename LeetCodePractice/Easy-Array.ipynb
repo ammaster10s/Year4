{
 "cells": [
  {
   "cell_type": "code",
   "execution_count": null,
   "id": "e19ae088",
   "metadata": {},
   "outputs": [
    {
     "name": "stdout",
     "output_type": "stream",
     "text": [
      "lastrow [1]\n",
      "lastrow [1, 1]\n",
      "lastrow -1  1\n",
      "lastrow num 1\n",
      "newRow [1, 2, 1]\n",
      "lastrow [1, 2, 1]\n",
      "lastrow -1  1\n",
      "lastrow num 2\n",
      "newRow [1, 3, 1, 1]\n",
      "lastrow -1  2\n",
      "lastrow num 1\n",
      "newRow [1, 3, 3, 1]\n",
      "lastrow [1, 3, 3, 1]\n",
      "lastrow -1  1\n",
      "lastrow num 3\n",
      "newRow [1, 4, 1, 1, 1]\n",
      "lastrow -1  3\n",
      "lastrow num 3\n",
      "newRow [1, 4, 6, 1, 1]\n",
      "lastrow -1  3\n",
      "lastrow num 1\n",
      "newRow [1, 4, 6, 4, 1]\n",
      "[[1], [1, 1], [1, 2, 1], [1, 3, 3, 1], [1, 4, 6, 4, 1]]\n"
     ]
    }
   ],
   "source": [
    "# Pascal's Triangle# https://leetcode.com/problems/pascals-triangle/\n",
    "# Solution: recursively call the function to generate previous rows\n",
    "# 5 call 4 call 3 call 2 call 1 call 0 then 0 ret [[1]] and 1 return [[1], [1, 1], [1, 2, 1], [1, 3, 3, 1], [1, 4, 6, 4, 1]]\n",
    "class Solution(object):\n",
    "    def generate(self, numRows):\n",
    "        \"\"\"\n",
    "        :type numRows: int\n",
    "        :rtype: List[List[int]]\n",
    "        \"\"\"\n",
    "        \n",
    "        if numRows == 1 :\n",
    "            return [[1]]\n",
    "        if numRows == 0 :\n",
    "            return []\n",
    "\n",
    "        prevRows = self.generate(numRows-1)\n",
    "        lastRow = prevRows[-1]\n",
    "        newRow = [1] * numRows\n",
    "    \n",
    "    \n",
    "        for num in range(1,numRows-1):\n",
    "            newRow[num] = lastRow[num - 1] + lastRow[num]\n",
    "           \n",
    "        prevRows.append(newRow)\n",
    "        return prevRows\n",
    "\n",
    "Test = Solution()\n",
    "print(Test.generate(5))  \n"
   ]
  },
  {
   "cell_type": "code",
   "execution_count": null,
   "id": "76d7aab9",
   "metadata": {},
   "outputs": [],
   "source": []
  }
 ],
 "metadata": {
  "kernelspec": {
   "display_name": "Python 3",
   "language": "python",
   "name": "python3"
  },
  "language_info": {
   "codemirror_mode": {
    "name": "ipython",
    "version": 3
   },
   "file_extension": ".py",
   "mimetype": "text/x-python",
   "name": "python",
   "nbconvert_exporter": "python",
   "pygments_lexer": "ipython3",
   "version": "3.11.10"
  }
 },
 "nbformat": 4,
 "nbformat_minor": 5
}
