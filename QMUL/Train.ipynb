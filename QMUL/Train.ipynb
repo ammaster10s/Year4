{
 "cells": [
  {
   "cell_type": "code",
   "execution_count": 1,
   "id": "2cb154d0",
   "metadata": {},
   "outputs": [
    {
     "name": "stdout",
     "output_type": "stream",
     "text": [
      "✅ Dataset split complete into train/val/test with merged STE-C subfolders.\n"
     ]
    }
   ],
   "source": [
    "import os\n",
    "import shutil\n",
    "import random\n",
    "\n",
    "dataset_dir = \"/Users/ammaster10/Documents/Github/Year4/QMUL/Dataset\"\n",
    "output_dir = \"/Users/ammaster10/Documents/Github/Year4/QMUL/DatasetSplit\"\n",
    "splits = [\"train\", \"val\", \"test\"]\n",
    "\n",
    "# Ratios\n",
    "train_ratio, val_ratio, test_ratio = 0.7, 0.15, 0.15\n",
    "\n",
    "# Create output dirs\n",
    "for split in splits:\n",
    "    for class_name in [\"Normal\", \"Abnormal\", \"STE-C\", \"STE-Mimic\", \"STE-U\"]:\n",
    "        os.makedirs(os.path.join(output_dir, split, class_name), exist_ok=True)\n",
    "\n",
    "# Iterate classes\n",
    "for class_name in os.listdir(dataset_dir):\n",
    "    class_dir = os.path.join(dataset_dir, class_name)\n",
    "    if not os.path.isdir(class_dir):\n",
    "        continue\n",
    "\n",
    "    if class_name == \"STE-C\":\n",
    "        # Collect files from subfolders STE-C-LAD, STE-C-LCX, STE-C-RCA\n",
    "        files = []\n",
    "        for sub in os.listdir(class_dir):\n",
    "            sub_dir = os.path.join(class_dir, sub)\n",
    "            if os.path.isdir(sub_dir):\n",
    "                files.extend([os.path.join(sub_dir, f) for f in os.listdir(sub_dir) if f.lower().endswith(('.png', '.jpg', '.jpeg'))])\n",
    "    else:\n",
    "        files = [os.path.join(class_dir, f) for f in os.listdir(class_dir) if f.lower().endswith(('.png', '.jpg', '.jpeg'))]\n",
    "\n",
    "    random.shuffle(files)\n",
    "    n_total = len(files)\n",
    "    n_train = int(train_ratio * n_total)\n",
    "    n_val   = int(val_ratio * n_total)\n",
    "\n",
    "    train_files = files[:n_train]\n",
    "    val_files   = files[n_train:n_train+n_val]\n",
    "    test_files  = files[n_train+n_val:]\n",
    "\n",
    "    for f in train_files:\n",
    "        shutil.copy(f, os.path.join(output_dir, \"train\", class_name, os.path.basename(f)))\n",
    "    for f in val_files:\n",
    "        shutil.copy(f, os.path.join(output_dir, \"val\", class_name, os.path.basename(f)))\n",
    "    for f in test_files:\n",
    "        shutil.copy(f, os.path.join(output_dir, \"test\", class_name, os.path.basename(f)))\n",
    "\n",
    "print(\"✅ Dataset split complete into train/val/test with merged STE-C subfolders.\")\n"
   ]
  },
  {
   "cell_type": "code",
   "execution_count": null,
   "id": "353b367f",
   "metadata": {},
   "outputs": [],
   "source": [
    "import os\n",
    "import numpy as np\n",
    "from PIL import Image\n",
    "from glob import glob\n",
    "\n",
    "import torch\n",
    "import torch.nn as nn\n",
    "import torch.optim as optim\n",
    "from torch.utils.data import Dataset, DataLoader\n",
    "from torchvision import transforms, models\n",
    "from sklearn.metrics import classification_report, confusion_matrix\n"
   ]
  }
 ],
 "metadata": {
  "kernelspec": {
   "display_name": ".venv",
   "language": "python",
   "name": "python3"
  },
  "language_info": {
   "codemirror_mode": {
    "name": "ipython",
    "version": 3
   },
   "file_extension": ".py",
   "mimetype": "text/x-python",
   "name": "python",
   "nbconvert_exporter": "python",
   "pygments_lexer": "ipython3",
   "version": "3.9.6"
  }
 },
 "nbformat": 4,
 "nbformat_minor": 5
}
