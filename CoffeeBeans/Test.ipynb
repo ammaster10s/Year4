{
 "cells": [
  {
   "cell_type": "code",
   "execution_count": null,
   "id": "2976e274",
   "metadata": {},
   "outputs": [
    {
     "ename": "FileNotFoundError",
     "evalue": "[Errno 2] No such file or directory: 'CoffeeBeans/coffee beans.v1i.coco (1)/train/_annotations.coco.json'",
     "output_type": "error",
     "traceback": [
      "\u001b[0;31m---------------------------------------------------------------------------\u001b[0m",
      "\u001b[0;31mFileNotFoundError\u001b[0m                         Traceback (most recent call last)",
      "Cell \u001b[0;32mIn[1], line 12\u001b[0m\n\u001b[1;32m      9\u001b[0m image_dir \u001b[38;5;241m=\u001b[39m \u001b[38;5;124m\"\u001b[39m\u001b[38;5;124mCoffeeBeans/coffee beans.v1i.coco (1)/train\u001b[39m\u001b[38;5;124m\"\u001b[39m  \u001b[38;5;66;03m# folder containing your images\u001b[39;00m\n\u001b[1;32m     11\u001b[0m \u001b[38;5;66;03m# --- load annotation file ---\u001b[39;00m\n\u001b[0;32m---> 12\u001b[0m \u001b[38;5;28;01mwith\u001b[39;00m \u001b[38;5;28;43mopen\u001b[39;49m\u001b[43m(\u001b[49m\u001b[43mjson_path\u001b[49m\u001b[43m,\u001b[49m\u001b[43m \u001b[49m\u001b[38;5;124;43m\"\u001b[39;49m\u001b[38;5;124;43mr\u001b[39;49m\u001b[38;5;124;43m\"\u001b[39;49m\u001b[43m)\u001b[49m \u001b[38;5;28;01mas\u001b[39;00m f:\n\u001b[1;32m     13\u001b[0m     coco \u001b[38;5;241m=\u001b[39m json\u001b[38;5;241m.\u001b[39mload(f)\n\u001b[1;32m     15\u001b[0m \u001b[38;5;66;03m# Map image_id → file_name\u001b[39;00m\n",
      "File \u001b[0;32m~/Documents/Github/Year4/.venv/lib/python3.9/site-packages/IPython/core/interactiveshell.py:310\u001b[0m, in \u001b[0;36m_modified_open\u001b[0;34m(file, *args, **kwargs)\u001b[0m\n\u001b[1;32m    303\u001b[0m \u001b[38;5;28;01mif\u001b[39;00m file \u001b[38;5;129;01min\u001b[39;00m {\u001b[38;5;241m0\u001b[39m, \u001b[38;5;241m1\u001b[39m, \u001b[38;5;241m2\u001b[39m}:\n\u001b[1;32m    304\u001b[0m     \u001b[38;5;28;01mraise\u001b[39;00m \u001b[38;5;167;01mValueError\u001b[39;00m(\n\u001b[1;32m    305\u001b[0m         \u001b[38;5;124mf\u001b[39m\u001b[38;5;124m\"\u001b[39m\u001b[38;5;124mIPython won\u001b[39m\u001b[38;5;124m'\u001b[39m\u001b[38;5;124mt let you open fd=\u001b[39m\u001b[38;5;132;01m{\u001b[39;00mfile\u001b[38;5;132;01m}\u001b[39;00m\u001b[38;5;124m by default \u001b[39m\u001b[38;5;124m\"\u001b[39m\n\u001b[1;32m    306\u001b[0m         \u001b[38;5;124m\"\u001b[39m\u001b[38;5;124mas it is likely to crash IPython. If you know what you are doing, \u001b[39m\u001b[38;5;124m\"\u001b[39m\n\u001b[1;32m    307\u001b[0m         \u001b[38;5;124m\"\u001b[39m\u001b[38;5;124myou can use builtins\u001b[39m\u001b[38;5;124m'\u001b[39m\u001b[38;5;124m open.\u001b[39m\u001b[38;5;124m\"\u001b[39m\n\u001b[1;32m    308\u001b[0m     )\n\u001b[0;32m--> 310\u001b[0m \u001b[38;5;28;01mreturn\u001b[39;00m \u001b[43mio_open\u001b[49m\u001b[43m(\u001b[49m\u001b[43mfile\u001b[49m\u001b[43m,\u001b[49m\u001b[43m \u001b[49m\u001b[38;5;241;43m*\u001b[39;49m\u001b[43margs\u001b[49m\u001b[43m,\u001b[49m\u001b[43m \u001b[49m\u001b[38;5;241;43m*\u001b[39;49m\u001b[38;5;241;43m*\u001b[39;49m\u001b[43mkwargs\u001b[49m\u001b[43m)\u001b[49m\n",
      "\u001b[0;31mFileNotFoundError\u001b[0m: [Errno 2] No such file or directory: 'CoffeeBeans/coffee beans.v1i.coco (1)/train/_annotations.coco.json'"
     ]
    }
   ],
   "source": [
    "import json\n",
    "import random\n",
    "import cv2\n",
    "import matplotlib.pyplot as plt\n",
    "import os\n",
    "\n",
    "# --- paths ---\n",
    "json_path = \"CoffeeBeans/coffee beans.v1i.coco_1/train/_annotations.coco.json\"\n",
    "image_dir = \"CoffeeBeans/coffee beans.v1i.coco_1/train\"  # folder containing your images\n",
    "\n",
    "# --- load annotation file ---\n",
    "with open(json_path, \"r\") as f:\n",
    "    coco = json.load(f)\n",
    "\n",
    "# Map image_id → file_name\n",
    "id_to_filename = {img[\"id\"]: img[\"file_name\"] for img in coco[\"images\"]}\n",
    "\n",
    "# Map image_id → list of annotations\n",
    "from collections import defaultdict\n",
    "image_to_annots = defaultdict(list)\n",
    "for ann in coco[\"annotations\"]:\n",
    "    image_to_annots[ann[\"image_id\"]].append(ann)\n",
    "\n",
    "# --- pick a random image ---\n",
    "random_image_id = random.choice(list(id_to_filename.keys()))\n",
    "img_file = id_to_filename[random_image_id]\n",
    "img_path = os.path.join(image_dir, img_file)\n",
    "\n",
    "print(f\"Selected image: {img_file}\")\n",
    "\n",
    "# --- read the image ---\n",
    "img = cv2.imread(img_path)\n",
    "img = cv2.cvtColor(img, cv2.COLOR_BGR2RGB)\n",
    "\n",
    "# --- draw annotation (mask or bounding box) ---\n",
    "anns = image_to_annots[random_image_id]\n",
    "for ann in anns:\n",
    "    if \"bbox\" in ann:\n",
    "        x, y, w, h = map(int, ann[\"bbox\"])\n",
    "        cv2.rectangle(img, (x, y), (x+w, y+h), (255, 0, 0), 2)\n",
    "        if \"category_id\" in ann:\n",
    "            cat = next((c[\"name\"] for c in coco[\"categories\"] if c[\"id\"] == ann[\"category_id\"]), \"\")\n",
    "            cv2.putText(img, cat, (x, y-5), cv2.FONT_HERSHEY_SIMPLEX, 0.6, (255,0,0), 2)\n",
    "    elif \"segmentation\" in ann and len(ann[\"segmentation\"]) > 0:\n",
    "        pts = np.array(ann[\"segmentation\"][0]).reshape(-1,2).astype(int)\n",
    "        cv2.polylines(img, [pts], True, (0,255,0), 2)\n",
    "\n",
    "# --- display result ---\n",
    "plt.imshow(img)\n",
    "plt.title(f\"Annotated view: {img_file}\")\n",
    "plt.axis(\"off\")\n",
    "plt.show()"
   ]
  }
 ],
 "metadata": {
  "kernelspec": {
   "display_name": ".venv",
   "language": "python",
   "name": "python3"
  },
  "language_info": {
   "codemirror_mode": {
    "name": "ipython",
    "version": 3
   },
   "file_extension": ".py",
   "mimetype": "text/x-python",
   "name": "python",
   "nbconvert_exporter": "python",
   "pygments_lexer": "ipython3",
   "version": "3.9.6"
  }
 },
 "nbformat": 4,
 "nbformat_minor": 5
}
